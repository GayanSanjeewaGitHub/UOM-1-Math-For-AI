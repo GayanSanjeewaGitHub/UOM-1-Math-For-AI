{
 "cells": [
  {
   "cell_type": "markdown",
   "metadata": {},
   "source": [
    "![alt text](image.png)"
   ]
  },
  {
   "cell_type": "code",
   "execution_count": 1,
   "metadata": {},
   "outputs": [
    {
     "name": "stdout",
     "output_type": "stream",
     "text": [
      "Partial derivatives of f1:\n",
      "df1/dx = 2*x + 3*y\n",
      "df1/dy = 3*x\n",
      "Partial derivatives of f2:\n",
      "df2/dx = 2*x\n",
      "df2/dy = -2*y\n"
     ]
    }
   ],
   "source": [
    "import sympy as sp\n",
    "\n",
    "# Define variables\n",
    "x, y = sp.symbols('x y')\n",
    "\n",
    "# Function 1\n",
    "f1 = x**2 + 3*x*y + 5\n",
    "# Function 2\n",
    "f2 = x**2 - y**2\n",
    "\n",
    "# Partial derivatives\n",
    "df1_dx = sp.diff(f1, x)\n",
    "df1_dy = sp.diff(f1, y)\n",
    "df2_dx = sp.diff(f2, x)\n",
    "df2_dy = sp.diff(f2, y)\n",
    "\n",
    "print(\"Partial derivatives of f1:\")\n",
    "print(\"df1/dx =\", df1_dx)\n",
    "print(\"df1/dy =\", df1_dy)\n",
    "\n",
    "print(\"Partial derivatives of f2:\")\n",
    "print(\"df2/dx =\", df2_dx)\n",
    "print(\"df2/dy =\", df2_dy)"
   ]
  },
  {
   "cell_type": "markdown",
   "metadata": {},
   "source": [
    "![alt text](image-1.png)"
   ]
  },
  {
   "cell_type": "code",
   "execution_count": 2,
   "metadata": {},
   "outputs": [
    {
     "name": "stdout",
     "output_type": "stream",
     "text": [
      "Second-order partial derivatives of f1:\n",
      "d2f1/dx2 = 2\n",
      "d2f1/dy2 = 0\n",
      "d2f1/dxdy = 3\n",
      "d2f1/dydx = 3\n",
      "Second-order partial derivatives of f2:\n",
      "d2f2/dx2 = 2\n",
      "d2f2/dy2 = -2\n",
      "d2f2/dxdy = 0\n",
      "d2f2/dydx = 0\n"
     ]
    }
   ],
   "source": [
    "# Second-order partial derivatives\n",
    "d2f1_dx2 = sp.diff(df1_dx, x)\n",
    "d2f1_dy2 = sp.diff(df1_dy, y)\n",
    "d2f1_dxdy = sp.diff(df1_dx, y)\n",
    "d2f1_dydx = sp.diff(df1_dy, x)\n",
    "\n",
    "d2f2_dx2 = sp.diff(df2_dx, x)\n",
    "d2f2_dy2 = sp.diff(df2_dy, y)\n",
    "d2f2_dxdy = sp.diff(df2_dx, y)\n",
    "d2f2_dydx = sp.diff(df2_dy, x)\n",
    "\n",
    "print(\"Second-order partial derivatives of f1:\")\n",
    "print(\"d2f1/dx2 =\", d2f1_dx2)\n",
    "print(\"d2f1/dy2 =\", d2f1_dy2)\n",
    "print(\"d2f1/dxdy =\", d2f1_dxdy)\n",
    "print(\"d2f1/dydx =\", d2f1_dydx)\n",
    "\n",
    "print(\"Second-order partial derivatives of f2:\")\n",
    "print(\"d2f2/dx2 =\", d2f2_dx2)\n",
    "print(\"d2f2/dy2 =\", d2f2_dy2)\n",
    "print(\"d2f2/dxdy =\", d2f2_dxdy)\n",
    "print(\"d2f2/dydx =\", d2f2_dydx)"
   ]
  },
  {
   "cell_type": "markdown",
   "metadata": {},
   "source": [
    "![alt text](image-2.png)"
   ]
  },
  {
   "cell_type": "code",
   "execution_count": 3,
   "metadata": {},
   "outputs": [
    {
     "data": {
      "text/latex": [
       "$\\displaystyle \\frac{2 x}{x^{2} - y}$"
      ],
      "text/plain": [
       "2*x/(x**2 - y)"
      ]
     },
     "execution_count": 3,
     "metadata": {},
     "output_type": "execute_result"
    }
   ],
   "source": [
    "f = sp.log(x**2 -y)\n",
    "de_f_x=f.diff(x)\n",
    "de_f_x"
   ]
  },
  {
   "cell_type": "markdown",
   "metadata": {},
   "source": [
    "![alt text](image-3.png)"
   ]
  },
  {
   "cell_type": "code",
   "execution_count": 4,
   "metadata": {},
   "outputs": [
    {
     "name": "stdout",
     "output_type": "stream",
     "text": [
      "Differential dz = dx*(2*x*y + 3*y**2) + dy*(x**2 + 6*x*y)\n"
     ]
    }
   ],
   "source": [
    "# Define variables\n",
    "dx, dy = sp.symbols('dx dy')\n",
    "\n",
    "# Function z\n",
    "z = x**2 * y + 3*x*y**2\n",
    "\n",
    "# Partial derivatives\n",
    "dz_dx = sp.diff(z, x)\n",
    "dz_dy = sp.diff(z, y)\n",
    "\n",
    "# Differential dz\n",
    "dz = dz_dx * dx + dz_dy * dy\n",
    "\n",
    "print(\"Differential dz =\", dz)"
   ]
  },
  {
   "cell_type": "markdown",
   "metadata": {},
   "source": [
    "![alt text](image-4.png)"
   ]
  },
  {
   "cell_type": "code",
   "execution_count": 6,
   "metadata": {},
   "outputs": [
    {
     "name": "stdout",
     "output_type": "stream",
     "text": [
      "dz/dx = 2*x*y + 3*y**2\n",
      "dz/dy = x**2 + 6*x*y\n",
      "dz/dt at t = 0 = 4*x*y + 6*y**2\n"
     ]
    }
   ],
   "source": [
    "import sympy as sp\n",
    "\n",
    "# Define symbols\n",
    "x, y, t = sp.symbols('x y t')\n",
    "\n",
    "# Define the function z\n",
    "z = x**2 * y + 3*x*y**2\n",
    "\n",
    "# Compute partial derivatives with respect to x and y\n",
    "dz_dx = sp.diff(z, x)\n",
    "dz_dy = sp.diff(z, y)\n",
    "\n",
    "# Define x and y as functions of t\n",
    "x_t = sp.sin(2*t)\n",
    "y_t = sp.cos(t)\n",
    "\n",
    "# Compute the derivatives of x and y with respect to t\n",
    "dx_dt = sp.diff(x_t, t)\n",
    "dy_dt = sp.diff(y_t, t)\n",
    "\n",
    "# Apply the chain rule to find dz/dt\n",
    "dz_dt = dz_dx * dx_dt + dz_dy * dy_dt\n",
    "\n",
    "# Evaluate dz/dt at t = 0\n",
    "dz_dt_at_0 = dz_dt.subs(t, 0)\n",
    "\n",
    "print(\"dz/dx =\", dz_dx)\n",
    "print(\"dz/dy =\", dz_dy)\n",
    "print(\"dz/dt at t = 0 =\", dz_dt_at_0)"
   ]
  },
  {
   "cell_type": "markdown",
   "metadata": {},
   "source": [
    "![alt text](image-5.png)"
   ]
  },
  {
   "cell_type": "code",
   "execution_count": 9,
   "metadata": {},
   "outputs": [
    {
     "name": "stdout",
     "output_type": "stream",
     "text": [
      "The function is not homogeneous.\n"
     ]
    }
   ],
   "source": [
    "import sympy as sp\n",
    "\n",
    "# Define symbols\n",
    "x, y, t = sp.symbols('x y t')\n",
    "\n",
    "# Define the function f(x, y) as a lambda function\n",
    "f = lambda x, y: x - 3*sp.sqrt(x*y) + 5*y\n",
    "\n",
    "def is_homogeneous(func, x, y, t):\n",
    "    # Compute f(x, y)\n",
    "    f_xy = func(x, y)\n",
    "    \n",
    "    # Compute f(tx, ty)\n",
    "    f_tx_ty = func(t*x, t*y)\n",
    "    \n",
    "    # Check if f(tx, ty) is proportional to t^n * f(x, y) for some n\n",
    "    try:\n",
    "        n = sp.simplify(f_tx_ty / f_xy)\n",
    "        if n.is_number and n.is_real:\n",
    "            return True, n\n",
    "    except ZeroDivisionError:\n",
    "        # Handle the case where f(x, y) is zero\n",
    "        if sp.simplify(f_tx_ty) == 0:\n",
    "            return True, 0\n",
    "    \n",
    "    return False, None\n",
    "\n",
    "# Check if f(x, y) is homogeneous\n",
    "is_homogeneous_result, degree = is_homogeneous(f, x, y, t)\n",
    "\n",
    "if is_homogeneous_result:\n",
    "    print(f\"The function is homogeneous of degree {degree}.\")\n",
    "else:\n",
    "    print(\"The function is not homogeneous.\")"
   ]
  },
  {
   "cell_type": "markdown",
   "metadata": {},
   "source": []
  },
  {
   "cell_type": "markdown",
   "metadata": {},
   "source": [
    "![alt text](image-6.png)"
   ]
  },
  {
   "cell_type": "code",
   "execution_count": 8,
   "metadata": {},
   "outputs": [
    {
     "name": "stdout",
     "output_type": "stream",
     "text": [
      "Euler's theorem holds for the function f(x, y) = x**2 + 2*x*y + y**2.\n",
      "Left-hand side (LHS): x*(2*x + 2*y) + y*(2*x + 2*y)\n",
      "Right-hand side (RHS): 2*x**2 + 4*x*y + 2*y**2\n"
     ]
    }
   ],
   "source": [
    "import sympy as sp\n",
    "\n",
    "# Define symbols\n",
    "x, y = sp.symbols('x y')\n",
    "\n",
    "# Define a homogeneous function f(x, y) of your choice\n",
    "# For example, let's use f(x, y) = x^2 + 2*x*y + y^2 (a homogeneous function of degree 2)\n",
    "f = x**2 + 2*x*y + y**2\n",
    "\n",
    "# Compute the partial derivatives of f with respect to x and y\n",
    "df_dx = sp.diff(f, x)\n",
    "df_dy = sp.diff(f, y)\n",
    "\n",
    "# Compute the left-hand side of Euler's theorem\n",
    "lhs = x * df_dx + y * df_dy\n",
    "\n",
    "# Compute the right-hand side of Euler's theorem\n",
    "n = 2  # Degree of homogeneity for our example function\n",
    "rhs = n * f\n",
    "\n",
    "# Check if Euler's theorem holds\n",
    "euler_test = sp.simplify(lhs - rhs)\n",
    "\n",
    "if sp.simplify(euler_test) == 0:\n",
    "    print(f\"Euler's theorem holds for the function f(x, y) = {f}.\")\n",
    "else:\n",
    "    print(f\"Euler's theorem does not hold for the function f(x, y) = {f}.\")\n",
    "\n",
    "# Display the left-hand side and right-hand side for reference\n",
    "print(\"Left-hand side (LHS):\", lhs)\n",
    "print(\"Right-hand side (RHS):\", rhs)"
   ]
  },
  {
   "cell_type": "markdown",
   "metadata": {},
   "source": [
    "Hessian matrix"
   ]
  },
  {
   "cell_type": "code",
   "execution_count": 10,
   "metadata": {},
   "outputs": [
    {
     "name": "stdout",
     "output_type": "stream",
     "text": [
      "The Hessian matrix of the function is:\n",
      "Matrix([[2, 3], [3, 2]])\n"
     ]
    }
   ],
   "source": [
    "import sympy as sp\n",
    "\n",
    "# Define symbols\n",
    "x, y = sp.symbols('x y')\n",
    "\n",
    "# Define the function f(x, y) for which we want to compute the Hessian matrix\n",
    "# For example, let's use f(x, y) = x^2 + 3*x*y + y^2\n",
    "f = x**2 + 3*x*y + y**2\n",
    "\n",
    "# Compute the first-order partial derivatives\n",
    "df_dx = sp.diff(f, x)\n",
    "df_dy = sp.diff(f, y)\n",
    "\n",
    "# Compute the second-order partial derivatives\n",
    "d2f_dx2 = sp.diff(df_dx, x)\n",
    "d2f_dy2 = sp.diff(df_dy, y)\n",
    "d2f_dxdy = sp.diff(df_dx, y)\n",
    "d2f_dydx = sp.diff(df_dy, x)\n",
    "\n",
    "# Since the function is smooth, the mixed partial derivatives are equal ( Clairaut's theorem )\n",
    "# So we can use d2f_dxdy or d2f_dydx for the off-diagonal elements\n",
    "\n",
    "# Create the Hessian matrix\n",
    "H = sp.Matrix([[d2f_dx2, d2f_dxdy],\n",
    "               [d2f_dydx, d2f_dy2]])\n",
    "\n",
    "# Print the Hessian matrix\n",
    "print(\"The Hessian matrix of the function is:\")\n",
    "print(H)"
   ]
  },
  {
   "cell_type": "markdown",
   "metadata": {},
   "source": [
    "Optimizations"
   ]
  },
  {
   "cell_type": "code",
   "execution_count": null,
   "metadata": {},
   "outputs": [
    {
     "name": "stdout",
     "output_type": "stream",
     "text": [
      "At point (x, 0), there is a Saddle Point.\n",
      "At point (y, 0), there is a Saddle Point.\n"
     ]
    }
   ],
   "source": [
    "import sympy as sp\n",
    "\n",
    "# Define symbols\n",
    "x, y = sp.symbols('x y')\n",
    "\n",
    "# Define the function f(x, y) for which we want to find relative maxima and minima\n",
    "# For example, let's use f(x, y) = x^2 + 3*x*y + y^2\n",
    "f = x**2 + 3*x*y + y**2\n",
    "\n",
    "# Compute the first-order partial derivatives\n",
    "df_dx = sp.diff(f, x)\n",
    "df_dy = sp.diff(f, y)\n",
    "\n",
    "# Solve for the critical points (where both partial derivatives are zero)\n",
    "critical_points = sp.solve((df_dx, df_dy), (x, y))\n",
    "\n",
    "# Compute the second-order partial derivatives\n",
    "d2f_dx2 = sp.diff(f, x, x)\n",
    "d2f_dy2 = sp.diff(f, y, y)\n",
    "d2f_dxdy = sp.diff(f, x, y)\n",
    "\n",
    "# Create the Hessian matrix\n",
    "H = sp.Matrix([[d2f_dx2, d2f_dxdy],\n",
    "               [d2f_dxdy, d2f_dy2]])\n",
    "\n",
    "# Initialize a list to store the results\n",
    "results = []\n",
    "\n",
    "# Evaluate the Hessian matrix at each critical point\n",
    "for cp in critical_points.items():\n",
    "    x_val = cp[0]\n",
    "    y_val = cp[1]\n",
    "    H_val = H.subs({x: x_val, y: y_val})\n",
    "    \n",
    "    # Calculate the determinant of the Hessian matrix\n",
    "    det_H = H_val.det()\n",
    "    \n",
    "    # Calculate the leading principal minor (top-left element)\n",
    "    a = H_val[0, 0]\n",
    "    \n",
    "    # Determine the nature of the critical point\n",
    "    if det_H > 0 and a > 0:\n",
    "        results.append(((x_val, y_val), 'Relative Minimum'))\n",
    "    elif det_H > 0 and a < 0:\n",
    "        results.append(((x_val, y_val), 'Relative Maximum'))\n",
    "    elif det_H < 0:\n",
    "        results.append(((x_val, y_val), 'Saddle Point'))\n",
    "    else:\n",
    "        results.append(((x_val, y_val), 'Test Inconclusive'))\n",
    "\n",
    "# Print the results\n",
    "for point, nature in results:\n",
    "    print(f\"At point {point}, there is a {nature}.\")"
   ]
  }
 ],
 "metadata": {
  "kernelspec": {
   "display_name": "mathenv",
   "language": "python",
   "name": "python3"
  },
  "language_info": {
   "codemirror_mode": {
    "name": "ipython",
    "version": 3
   },
   "file_extension": ".py",
   "mimetype": "text/x-python",
   "name": "python",
   "nbconvert_exporter": "python",
   "pygments_lexer": "ipython3",
   "version": "3.12.5"
  }
 },
 "nbformat": 4,
 "nbformat_minor": 2
}
