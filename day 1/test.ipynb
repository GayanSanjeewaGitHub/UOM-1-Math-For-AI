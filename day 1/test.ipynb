{
 "cells": [
  {
   "cell_type": "code",
   "execution_count": 8,
   "metadata": {},
   "outputs": [],
   "source": [
    "import numpy as np"
   ]
  },
  {
   "cell_type": "code",
   "execution_count": 9,
   "metadata": {},
   "outputs": [
    {
     "name": "stdout",
     "output_type": "stream",
     "text": [
      "Vector v: [-2 -3]\n",
      "Vector u: [-1  3]\n",
      "Dot product (1D arrays): -7\n",
      "Row vector: [[-2 -3]]\n",
      "Column vector: [[-1]\n",
      " [ 3]]\n",
      "Row vector: [[-2 -3]]\n",
      "Column vector: [[-1]\n",
      " [ 3]]\n",
      "Scalar result (row @ column): [[-7]]\n",
      "Matrix result (column @ row):\n",
      "[[ 2  3]\n",
      " [-6 -9]]\n"
     ]
    }
   ],
   "source": [
    " \n",
    "# Original 1D vectors\n",
    "v = np.array([-2, -3])\n",
    "u = np.array([-1, 3])\n",
    "\n",
    "print(f\"Vector v: {v}\")\n",
    "print(f\"Vector u: {u}\")\n",
    "\n",
    "# Dot product (1D arrays, no row/column distinction)\n",
    "dot_product = np.dot(v, u)\n",
    "print(f\"Dot product (1D arrays): {dot_product}\")\n",
    "\n",
    "# Explicit row and column vectors\n",
    "v_row = v.reshape(1, 2)  # Row vector\n",
    "print(f\"Row vector: {v_row}\")\n",
    "u_col = u.reshape(2, 1)  # Column vector\n",
    "print(f\"Column vector: {u_col}\")\n",
    "\n",
    "# Matrix multiplication\n",
    "scalar_result = v_row @ u_col  # Row vector times column vector\n",
    "matrix_result = u_col @ v_row  # Column vector times row vector\n",
    "\n",
    "print(f\"Row vector: {v_row}\")\n",
    "print(f\"Column vector: {u_col}\")\n",
    "print(f\"Scalar result (row @ column): {scalar_result}\")\n",
    "print(f\"Matrix result (column @ row):\\n{matrix_result}\")\n"
   ]
  },
  {
   "cell_type": "markdown",
   "metadata": {},
   "source": [
    "Cross Vector"
   ]
  },
  {
   "cell_type": "code",
   "execution_count": 10,
   "metadata": {},
   "outputs": [
    {
     "name": "stdout",
     "output_type": "stream",
     "text": [
      "The cross product of 3D vectors [1 2 3] and [4 5 6] is [-3  6 -3]\n",
      "The cross product of 2D vectors [3 4] and [5 6] is -2\n"
     ]
    },
    {
     "name": "stderr",
     "output_type": "stream",
     "text": [
      "C:\\Users\\MSI KATANA\\AppData\\Local\\Temp\\ipykernel_28684\\356790352.py:14: DeprecationWarning: Arrays of 2-dimensional vectors are deprecated. Use arrays of 3-dimensional vectors instead. (deprecated in NumPy 2.0)\n",
      "  cross_product_2d = np.cross(vector1_2d, vector2_2d)\n"
     ]
    }
   ],
   "source": [
    "vector1 = np.array([1, 2, 3])\n",
    "vector2 = np.array([4, 5, 6])\n",
    "\n",
    "# Calculate the cross product\n",
    "cross_product_3d = np.cross(vector1, vector2)\n",
    "print(f\"The cross product of 3D vectors {vector1} and {vector2} is {cross_product_3d}\")\n",
    "\n",
    "# Define two 2D vectors\n",
    "vector1_2d = np.array([3, 4])\n",
    "vector2_2d = np.array([5, 6])\n",
    "\n",
    "# Calculate the cross product for 2D vectors\n",
    "# The result will be a scalar, as the cross product in 2D is represented by the z-component\n",
    "cross_product_2d = np.cross(vector1_2d, vector2_2d)\n",
    "print(f\"The cross product of 2D vectors {vector1_2d} and {vector2_2d} is {cross_product_2d}\")"
   ]
  },
  {
   "cell_type": "markdown",
   "metadata": {},
   "source": [
    "Norm Form "
   ]
  },
  {
   "cell_type": "code",
   "execution_count": 11,
   "metadata": {},
   "outputs": [
    {
     "name": "stdout",
     "output_type": "stream",
     "text": [
      "The norm of the vector [3 4] is 5.00\n"
     ]
    }
   ],
   "source": [
    " \n",
    "\n",
    "# Define the vector\n",
    "vector = np.array([3, 4])\n",
    "\n",
    "# Calculate the norm\n",
    "vector_norm = np.linalg.norm(vector)\n",
    "\n",
    "print(f\"The norm of the vector {vector} is {vector_norm:.2f}\")\n"
   ]
  },
  {
   "cell_type": "markdown",
   "metadata": {},
   "source": [
    "Matrix Multiplication\n",
    "The element in row \n",
    "𝑖\n",
    "i, column \n",
    "𝑗\n",
    "j of the result matrix is the dot product of the \n",
    "𝑖\n",
    "ith row of the first matrix and the \n",
    "𝑗\n",
    "jth column of the second matrix."
   ]
  },
  {
   "cell_type": "code",
   "execution_count": 12,
   "metadata": {},
   "outputs": [
    {
     "name": "stdout",
     "output_type": "stream",
     "text": [
      "Scalar result: [[-7]]\n",
      "Matrix result:\n",
      "[[ 2  3]\n",
      " [-6 -9]]\n"
     ]
    }
   ],
   "source": [
    "import numpy as np\n",
    "\n",
    "v = np.array([-2, -3]).reshape(1, 2)  # Row vector\n",
    "u = np.array([-1, 3]).reshape(2, 1)  # Column vector\n",
    "\n",
    "scalar_result = v @ u  # Row vector times column vector\n",
    "matrix_result = u @ v  # Column vector times row vector\n",
    "\n",
    "print(f\"Scalar result: {scalar_result}\")  # [[7]]\n",
    "print(f\"Matrix result:\\n{matrix_result}\")  # [[2, 3], [-6, -9]]\n"
   ]
  },
  {
   "cell_type": "markdown",
   "metadata": {},
   "source": [
    "Cross Product\n",
    " The cross product is a different operation that applies specifically to 3D vectors (and can also be extended to 2D as a scalar). Its result:\n",
    "\n",
    " Is another vector (in 3D) that is perpendicular to both input vectors.\n",
    "Represents the area of the parallelogram spanned by the two vectors.\n"
   ]
  },
  {
   "cell_type": "code",
   "execution_count": 13,
   "metadata": {},
   "outputs": [
    {
     "name": "stdout",
     "output_type": "stream",
     "text": [
      "3D Cross product: [-3  6 -3]\n",
      "2D Cross product: -9\n"
     ]
    },
    {
     "name": "stderr",
     "output_type": "stream",
     "text": [
      "C:\\Users\\MSI KATANA\\AppData\\Local\\Temp\\ipykernel_28684\\1900606518.py:11: DeprecationWarning: Arrays of 2-dimensional vectors are deprecated. Use arrays of 3-dimensional vectors instead. (deprecated in NumPy 2.0)\n",
      "  cross_2d = np.cross(v_2d, u_2d)\n"
     ]
    }
   ],
   "source": [
    "import numpy as np\n",
    "\n",
    "# 3D vectors\n",
    "v_3d = np.array([1, 2, 3])\n",
    "u_3d = np.array([4, 5, 6])\n",
    "cross_3d = np.cross(v_3d, u_3d)\n",
    "\n",
    "# 2D vectors\n",
    "v_2d = np.array([-2, -3])\n",
    "u_2d = np.array([-1, 3])\n",
    "cross_2d = np.cross(v_2d, u_2d)\n",
    "\n",
    "print(f\"3D Cross product: {cross_3d}\")  # [-3, 6, -3]\n",
    "print(f\"2D Cross product: {cross_2d}\")  # 9\n"
   ]
  },
  {
   "cell_type": "markdown",
   "metadata": {},
   "source": [
    "angle between two vectors"
   ]
  },
  {
   "cell_type": "code",
   "execution_count": 14,
   "metadata": {},
   "outputs": [
    {
     "name": "stdout",
     "output_type": "stream",
     "text": [
      "Angle between vectors (in degrees): 10.30\n",
      "Projection of v onto u: [2.2 4.4]\n"
     ]
    }
   ],
   "source": [
    "import numpy as np\n",
    "\n",
    "# Define two vectors\n",
    "v = np.array([3, 4])  # Vector v\n",
    "u = np.array([1, 2])  # Vector u\n",
    "\n",
    "# Function to calculate the angle between two vectors\n",
    "def angle_between_vectors(v, u):\n",
    "    dot_product = np.dot(v, u)  # Dot product\n",
    "    norm_v = np.linalg.norm(v)  # Magnitude of v\n",
    "    norm_u = np.linalg.norm(u)  # Magnitude of u\n",
    "    cos_theta = dot_product / (norm_v * norm_u)  # Cosine of the angle\n",
    "    angle = np.arccos(np.clip(cos_theta, -1.0, 1.0))  # Angle in radians\n",
    "    return np.degrees(angle)  # Convert to degrees\n",
    "\n",
    "# Function to calculate the projection of vector v onto vector u\n",
    "def projection(v, u):\n",
    "    dot_product = np.dot(v, u)  # Dot product\n",
    "    norm_u_squared = np.dot(u, u)  # Magnitude squared of u\n",
    "    proj = (dot_product / norm_u_squared) * u  # Projection formula\n",
    "    return proj\n",
    "\n",
    "# Calculate the angle and projection\n",
    "angle = angle_between_vectors(v, u)\n",
    "projection_vector = projection(v, u)\n",
    "\n",
    "# Display results\n",
    "print(f\"Angle between vectors (in degrees): {angle:.2f}\")\n",
    "print(f\"Projection of v onto u: {projection_vector}\")\n"
   ]
  },
  {
   "cell_type": "markdown",
   "metadata": {},
   "source": [
    "Angle helps understand the orientation between the vectors.\n",
    "Projection finds the shadow of one vector on the other, useful in many applications like physics and computer graphics."
   ]
  },
  {
   "cell_type": "markdown",
   "metadata": {},
   "source": [
    "Note :\n",
    "\n",
    "\n",
    "The dot product in NumPy works with both row vectors (1D arrays) and column vectors (2D arrays with shape (n, 1)).\n",
    "\n",
    "To represent a column vector, you need to make sure that the array has a shape of (n, 1) where n is the length of the vector.\n"
   ]
  },
  {
   "cell_type": "code",
   "execution_count": 17,
   "metadata": {},
   "outputs": [
    {
     "name": "stdout",
     "output_type": "stream",
     "text": [
      "Dot product of row vectors: 14\n"
     ]
    }
   ],
   "source": [
    "arr1 = np.array([1, 2, 3])  # This is a row vector (1D array)\n",
    "arr2 = np.array([1, 2, 3])  # This is also a row vector (1D array)\n",
    "dot_product_1 = np.dot(arr1, arr2)  # Dot product of two row vectors\n",
    "print(f\"Dot product of row vectors: {dot_product_1}\")\n"
   ]
  },
  {
   "cell_type": "code",
   "execution_count": 18,
   "metadata": {},
   "outputs": [
    {
     "name": "stdout",
     "output_type": "stream",
     "text": [
      "Dot product of row vectors: 14\n"
     ]
    }
   ],
   "source": [
    "arr1_column = np.array([1, 2, 3]).reshape(-1, 1)  # Reshape to (3, 1)\n",
    "arr2_column = np.array([1, 2, 3]).reshape(-1, 1)  # Reshape to (3, 1)\n",
    "dot_product_2 = np.dot(arr1, arr2)  # Dot product of two row vectors\n",
    "print(f\"Dot product of row vectors: {dot_product_2}\")"
   ]
  },
  {
   "cell_type": "code",
   "execution_count": 19,
   "metadata": {},
   "outputs": [
    {
     "name": "stdout",
     "output_type": "stream",
     "text": [
      "Dot product of vectors: 14\n"
     ]
    }
   ],
   "source": [
    "v = np.array([1, 2, 3])\n",
    "u = np.array([1, 2, 3])\n",
    "np.dot(v, u)  # Scalar result (dot product)\n",
    "print(f\"Dot product of vectors: {np.dot(v, u)}\")"
   ]
  },
  {
   "cell_type": "markdown",
   "metadata": {},
   "source": [
    "The row vector is a 1D array, and the column vector is a 2D array. The result will be a scalar (since it's equivalent to a row vector multiplied by a column vector, i.e., matrix multiplication)."
   ]
  },
  {
   "cell_type": "code",
   "execution_count": 20,
   "metadata": {},
   "outputs": [
    {
     "name": "stdout",
     "output_type": "stream",
     "text": [
      "Dot product of row and column vectors: [14]\n"
     ]
    }
   ],
   "source": [
    "v = np.array([1, 2, 3])           # Row vector\n",
    "u_col = np.array([[1], [2], [3]])  # Column vector\n",
    "np.dot(v, u_col)  # Scalar result\n",
    "print(f\"Dot product of row and column vectors: {np.dot(v, u_col)}\")"
   ]
  }
 ],
 "metadata": {
  "kernelspec": {
   "display_name": "env",
   "language": "python",
   "name": "python3"
  },
  "language_info": {
   "codemirror_mode": {
    "name": "ipython",
    "version": 3
   },
   "file_extension": ".py",
   "mimetype": "text/x-python",
   "name": "python",
   "nbconvert_exporter": "python",
   "pygments_lexer": "ipython3",
   "version": "3.12.5"
  }
 },
 "nbformat": 4,
 "nbformat_minor": 2
}
