{
 "cells": [
  {
   "cell_type": "code",
   "execution_count": null,
   "metadata": {},
   "outputs": [],
   "source": [
    "import numpy as numpy\n",
    "import pandas as pd"
   ]
  },
  {
   "cell_type": "code",
   "execution_count": 1,
   "metadata": {},
   "outputs": [
    {
     "name": "stdout",
     "output_type": "stream",
     "text": [
      "Original vertices of the unit square:\n",
      "[(0, 0), (1, 0), (1, 1), (0, 1)]\n",
      "\n",
      "Translated vertices (by (-1, 2)):\n",
      "[(-1, 2), (0, 2), (0, 3), (-1, 3)]\n",
      "\n",
      "Rotated vertices (after 50 degrees rotation):\n",
      "(-2.1748764959244955, 0.5195307762541007)\n",
      "(-1.532088886237956, 1.2855752193730787)\n",
      "(-2.298133329356934, 1.9283628290596182)\n",
      "(-2.9409209390434734, 1.1623183859406403)\n"
     ]
    }
   ],
   "source": [
    "import math\n",
    "\n",
    "# Define the original vertices of the unit square\n",
    "vertices = [(0, 0), (1, 0), (1, 1), (0, 1)]\n",
    "\n",
    "# Define the translation vector (-1, 2)\n",
    "translation_vector = (-1, 2)\n",
    "\n",
    "# Step 1: Translate the vertices\n",
    "translated_vertices = [(x + translation_vector[0], y + translation_vector[1]) for (x, y) in vertices]\n",
    "\n",
    "# Define the rotation angle (50 degrees)\n",
    "angle_deg = 50\n",
    "angle_rad = math.radians(angle_deg)\n",
    "\n",
    "# Step 2: Rotate the translated vertices\n",
    "def rotate(x, y, angle):\n",
    "    x_new = x * math.cos(angle) - y * math.sin(angle)\n",
    "    y_new = x * math.sin(angle) + y * math.cos(angle)\n",
    "    return (x_new, y_new)\n",
    "\n",
    "# Apply rotation to each translated vertex\n",
    "rotated_vertices = [rotate(x, y, angle_rad) for (x, y) in translated_vertices]\n",
    "\n",
    "# Print the results\n",
    "print(\"Original vertices of the unit square:\")\n",
    "print(vertices)\n",
    "\n",
    "print(\"\\nTranslated vertices (by (-1, 2)):\")\n",
    "print(translated_vertices)\n",
    "\n",
    "print(\"\\nRotated vertices (after 50 degrees rotation):\")\n",
    "for vertex in rotated_vertices:\n",
    "    print(f\"{vertex}\")\n"
   ]
  },
  {
   "cell_type": "code",
   "execution_count": 35,
   "metadata": {},
   "outputs": [
    {
     "name": "stdout",
     "output_type": "stream",
     "text": [
      "Eigenvalues: [6. 0. 5.]\n",
      "Eigenvectors:\n",
      " [[ 1.00000000e+00 -2.25188675e-01  5.44331622e-17]\n",
      " [ 0.00000000e+00 -8.10679228e-01 -7.07106781e-01]\n",
      " [ 0.00000000e+00  5.40452819e-01 -7.07106781e-01]]\n"
     ]
    }
   ],
   "source": [
    "import numpy as np\n",
    "\n",
    "A = np.array([[6, -1 ,1],\n",
    "              [0, 2,3],\n",
    "              [0, 2,3]\n",
    "              ])\n",
    "\n",
    "# Compute eigenvalues and eigenvectors\n",
    "eigenvalues, eigenvectors = np.linalg.eig(A)\n",
    "\n",
    "print(\"Eigenvalues:\", eigenvalues)\n",
    "print(\"Eigenvectors:\\n\", eigenvectors)\n"
   ]
  },
  {
   "cell_type": "code",
   "execution_count": 21,
   "metadata": {},
   "outputs": [
    {
     "name": "stdout",
     "output_type": "stream",
     "text": [
      "The angle between the vectors is: 48.18968510422141 degrees\n"
     ]
    }
   ],
   "source": [
    "import numpy as np\n",
    "import math\n",
    "\n",
    "# Function to find the angle between two vectors\n",
    "def angle_between_vectors(a, b):\n",
    "    # Calculate dot product of a and b\n",
    "    dot_product = np.dot(a, b)\n",
    "    \n",
    "    # Calculate the magnitudes (norms) of a and b\n",
    "    magnitude_a = np.linalg.norm(a)\n",
    "    magnitude_b = np.linalg.norm(b)\n",
    "    \n",
    "    # Calculate the cosine of the angle\n",
    "    cos_theta = dot_product / (magnitude_a * magnitude_b)\n",
    "    \n",
    "    # Calculate the angle in radians\n",
    "    angle_radians = np.arccos(cos_theta)\n",
    "    \n",
    "    # Convert the angle to degrees\n",
    "    angle_degrees = math.degrees(angle_radians)\n",
    "    \n",
    "    return angle_degrees\n",
    "\n",
    "# Example vectors a and b\n",
    "a = np.array([1, 2, -2])\n",
    "b = np.array([4, 0, -3])\n",
    "\n",
    "# Calculate the angle between a and b\n",
    "angle = angle_between_vectors(a, b)\n",
    "\n",
    "print(f\"The angle between the vectors is: {angle} degrees\")\n"
   ]
  },
  {
   "cell_type": "code",
   "execution_count": 22,
   "metadata": {},
   "outputs": [
    {
     "name": "stdout",
     "output_type": "stream",
     "text": [
      "The cosine inverse value (cosine of the angle) is: 0.6666666666666665\n"
     ]
    }
   ],
   "source": [
    "import math\n",
    "\n",
    "# Angle in degrees\n",
    "angle_degrees = 48.18968510422141\n",
    "\n",
    "# Convert the angle to radians\n",
    "angle_radians = math.radians(angle_degrees)\n",
    "\n",
    "# Calculate the cosine of the angle\n",
    "cos_value = math.cos(angle_radians)\n",
    "\n",
    "print(f\"The cosine inverse value (cosine of the angle) is: {cos_value}\")\n"
   ]
  },
  {
   "cell_type": "code",
   "execution_count": 4,
   "metadata": {},
   "outputs": [
    {
     "name": "stdout",
     "output_type": "stream",
     "text": [
      "Determinant of 2×2 Matrix: 12.0\n",
      "Determinant of 3×3 Matrix: 0.0\n",
      "Determinant of 4×4 Matrix: 855.0\n"
     ]
    }
   ],
   "source": [
    "import numpy as np\n",
    "\n",
    "# Function to compute determinant\n",
    "def compute_determinant(matrix):\n",
    "    return np.linalg.det(matrix)\n",
    "\n",
    "# 2×2 Matrix\n",
    "matrix_2x2 = np.array([[6, -1],\n",
    "                        [0, 2]])\n",
    "\n",
    "# 3×3 Matrix\n",
    "matrix_3x3 = np.array([[6, -1, 1],\n",
    "                        [0, 2, 3],\n",
    "                        [0, 2, 3]])\n",
    "\n",
    "# n×n Random Matrix\n",
    "n = 4  # Change this for different sizes\n",
    "matrix_nxn = np.random.randint(1, 10, (n, n))\n",
    "\n",
    "# Compute determinants\n",
    "det_2x2 = compute_determinant(matrix_2x2)\n",
    "det_3x3 = compute_determinant(matrix_3x3)\n",
    "det_nxn = compute_determinant(matrix_nxn)\n",
    "\n",
    "# Print results\n",
    "print(\"Determinant of 2×2 Matrix:\", round(det_2x2, 2))\n",
    "print(\"Determinant of 3×3 Matrix:\", round(det_3x3, 2))\n",
    "print(f\"Determinant of {n}×{n} Matrix:\", round(det_nxn, 2))\n"
   ]
  },
  {
   "cell_type": "code",
   "execution_count": 6,
   "metadata": {},
   "outputs": [
    {
     "name": "stdout",
     "output_type": "stream",
     "text": [
      "Original Matrix:\n",
      " [[2 3 1]\n",
      " [4 5 6]\n",
      " [7 8 9]]\n",
      "\n",
      "Adjoint (Adjugate) Matrix:\n",
      " [[ -3. -19.  13.]\n",
      " [  6.  11.  -8.]\n",
      " [ -3.   5.  -2.]]\n",
      "\n",
      "Inverse Matrix:\n",
      " [[-0.33333333 -2.11111111  1.44444444]\n",
      " [ 0.66666667  1.22222222 -0.88888889]\n",
      " [-0.33333333  0.55555556 -0.22222222]]\n"
     ]
    }
   ],
   "source": [
    "#adjust and inverse\n",
    "\n",
    "import numpy as np\n",
    "\n",
    "def matrix_cofactor(matrix):\n",
    "    \"\"\"Compute the cofactor matrix.\"\"\"\n",
    "    size = matrix.shape[0]\n",
    "    cofactor_matrix = np.zeros((size, size))\n",
    "    \n",
    "    for i in range(size):\n",
    "        for j in range(size):\n",
    "            # Create the minor matrix by removing row i and column j\n",
    "            minor = np.delete(np.delete(matrix, i, axis=0), j, axis=1)\n",
    "            # Compute determinant of the minor matrix\n",
    "            cofactor_matrix[i, j] = ((-1) ** (i + j)) * np.linalg.det(minor)\n",
    "    \n",
    "    return cofactor_matrix\n",
    "\n",
    "def adjoint(matrix):\n",
    "    \"\"\"Compute the adjoint (adjugate) of a matrix.\"\"\"\n",
    "    cofactor_mat = matrix_cofactor(matrix)\n",
    "    return cofactor_mat.T  # Transpose of cofactor matrix\n",
    "\n",
    "def inverse(matrix):\n",
    "    \"\"\"Compute the inverse using adjoint method.\"\"\"\n",
    "    det = np.linalg.det(matrix)\n",
    "    if det == 0:\n",
    "        raise ValueError(\"Matrix is singular, inverse does not exist.\")\n",
    "    \n",
    "    adj = adjoint(matrix)\n",
    "    return adj / det  # A⁻¹ = (Adj(A)) / det(A)\n",
    "\n",
    "# Define a 3x3 matrix\n",
    "A = np.array([[2, 3, 1],\n",
    "              [4, 5, 6],\n",
    "              [7, 8, 9]])\n",
    "\n",
    "# Compute adjoint and inverse\n",
    "adj_A = adjoint(A)\n",
    "try:\n",
    "    inv_A = inverse(A)\n",
    "except ValueError as e:\n",
    "    inv_A = str(e)\n",
    "\n",
    "print(\"Original Matrix:\\n\", A)\n",
    "print(\"\\nAdjoint (Adjugate) Matrix:\\n\", adj_A)\n",
    "print(\"\\nInverse Matrix:\\n\", inv_A)\n"
   ]
  },
  {
   "cell_type": "code",
   "execution_count": 8,
   "metadata": {},
   "outputs": [
    {
     "name": "stdout",
     "output_type": "stream",
     "text": [
      "The system is Inconsistent (No Solution).\n"
     ]
    }
   ],
   "source": [
    "#consistancy\n",
    "\n",
    "import numpy as np\n",
    "\n",
    "# Coefficient Matrix (A)\n",
    "A = np.array([[2, 6, 0], \n",
    "              [6, 20, -6], \n",
    "              [0, 6, -18]])\n",
    "\n",
    "# Augmented Matrix (A|B)\n",
    "B = np.array([[-11], \n",
    "              [-3], \n",
    "              [-1]])\n",
    "\n",
    "# Compute the ranks\n",
    "rank_A = np.linalg.matrix_rank(A)\n",
    "rank_A_B = np.linalg.matrix_rank(np.hstack((A, B)))\n",
    "\n",
    "# Number of variables (columns in A)\n",
    "num_variables = A.shape[1]\n",
    "\n",
    "# Check consistency\n",
    "if rank_A == rank_A_B:\n",
    "    if rank_A == num_variables:\n",
    "        print(\"The system is Consistent with a Unique Solution.\")\n",
    "    else:\n",
    "        print(\"The system is Consistent with Infinitely Many Solutions.\")\n",
    "else:\n",
    "    print(\"The system is Inconsistent (No Solution).\")\n"
   ]
  },
  {
   "cell_type": "code",
   "execution_count": 9,
   "metadata": {},
   "outputs": [
    {
     "name": "stdout",
     "output_type": "stream",
     "text": [
      "The values of b that make the vectors orthogonal are: [-2, 0, 2]\n"
     ]
    }
   ],
   "source": [
    "#find the solution\n",
    "from sympy import symbols, Eq, solve\n",
    "\n",
    "# Define the variable b\n",
    "b = symbols('b')\n",
    "\n",
    "# Define the equation b^3 - 4b = 0\n",
    "equation = Eq(b * (b**2 - 4), 0)\n",
    "\n",
    "# Solve the equation\n",
    "solutions = solve(equation, b)\n",
    "\n",
    "# Display the solutions\n",
    "print(\"The values of b that make the vectors orthogonal are:\", solutions)\n"
   ]
  },
  {
   "cell_type": "code",
   "execution_count": 11,
   "metadata": {},
   "outputs": [
    {
     "name": "stdout",
     "output_type": "stream",
     "text": [
      "Point of intersection: [-6.  1.  1.]\n",
      "Acute angle between lines (in degrees): 169.11\n",
      "Value of A: -2.000000000000003\n",
      "Value of u: -5.333333333333336\n"
     ]
    }
   ],
   "source": [
    "import numpy as np\n",
    "\n",
    "def find_intersection_and_angle():\n",
    "    # Define the vectors for line L and M (excluding parameters A and u)\n",
    "    rL = np.array([0, -3, 3])  # Starting point of L\n",
    "    dirL = np.array([3, -2, 1])  # Direction vector of L\n",
    "\n",
    "    rM = np.array([7, -2, 4])  # Starting point of M\n",
    "    dirM = np.array([-2, 1, -1])  # Direction vector of M\n",
    "\n",
    "    # Create the system of equations from L = M\n",
    "    # We want to solve: rL + A * dirL = rM + u * dirM\n",
    "    # This simplifies to: (3, -2, 1) * A - (-2, 1, -1) * u = (7, -2, 4) - (0, -3, 3)\n",
    "\n",
    "    coeff = np.array([[3, -2], [-2, 1], [1, -1]])  # Coefficient matrix for A and u\n",
    "    rhs = np.array([7 - 0, -2 - (-3), 4 - 3])  # Right-hand side: (7, -2, 4) - (0, -3, 3)\n",
    "\n",
    "    # Solve the linear system for A and u\n",
    "    try:\n",
    "        params = np.linalg.lstsq(coeff, rhs, rcond=None)[0]\n",
    "\n",
    "        # Extract the values for A and u\n",
    "        A_solution, u_solution = params[0], params[1]\n",
    "\n",
    "        # Find the point of intersection by substituting A into L's equation\n",
    "        intersection_point = rL + A_solution * dirL\n",
    "\n",
    "        # Calculate the acute angle between L and M\n",
    "        dot_product = np.dot(dirL, dirM)\n",
    "        magnitude_L = np.linalg.norm(dirL)\n",
    "        magnitude_M = np.linalg.norm(dirM)\n",
    "\n",
    "        cos_theta = dot_product / (magnitude_L * magnitude_M)\n",
    "        angle = np.arccos(np.clip(cos_theta, -1.0, 1.0))  # Ensure the value is within the valid range\n",
    "\n",
    "        return intersection_point, np.degrees(angle), A_solution, u_solution\n",
    "    except np.linalg.LinAlgError:\n",
    "        return \"The system has no solution.\"\n",
    "\n",
    "# Call the function and display the results\n",
    "intersection, angle, A_solution, u_solution = find_intersection_and_angle()\n",
    "\n",
    "print(\"Point of intersection:\", intersection)\n",
    "print(f\"Acute angle between lines (in degrees): {angle:.2f}\")\n",
    "print(f\"Value of A: {A_solution}\")\n",
    "print(f\"Value of u: {u_solution}\")\n",
    "\n"
   ]
  },
  {
   "cell_type": "code",
   "execution_count": 12,
   "metadata": {},
   "outputs": [
    {
     "name": "stdout",
     "output_type": "stream",
     "text": [
      "Eigenvalues:  [4.92585155+0.j         1.53707422+1.22253995j 1.53707422-1.22253995j]\n",
      "Eigenvectors: \n",
      " [[-0.56568946+0.j         -0.44382311+0.03548398j -0.44382311-0.03548398j]\n",
      " [-0.14409344+0.j         -0.1093548 +0.31499295j -0.1093548 -0.31499295j]\n",
      " [-0.81193135+0.j          0.83101318+0.j          0.83101318-0.j        ]]\n"
     ]
    }
   ],
   "source": [
    "#eigen values\n",
    "\n",
    "\n",
    "import numpy as np\n",
    "\n",
    "# Define the 3x3 matrix\n",
    "A = np.array([[4, -2, 1],\n",
    "              [1, 1, 0],\n",
    "              [2, 3, 3]])\n",
    "\n",
    "# Find the eigenvalues and eigenvectors\n",
    "eigenvalues, eigenvectors = np.linalg.eig(A)\n",
    "\n",
    "# Display the results\n",
    "print(\"Eigenvalues: \", eigenvalues)\n",
    "print(\"Eigenvectors: \\n\", eigenvectors)\n"
   ]
  },
  {
   "cell_type": "code",
   "execution_count": null,
   "metadata": {},
   "outputs": [],
   "source": []
  },
  {
   "cell_type": "code",
   "execution_count": 16,
   "metadata": {},
   "outputs": [
    {
     "name": "stdout",
     "output_type": "stream",
     "text": [
      "Dot Product of a and b: 1\n",
      "Dot Product of a with itself: 3\n",
      "Projection of b onto a: [0.33333333 0.33333333 0.33333333]\n"
     ]
    }
   ],
   "source": [
    "import numpy as np\n",
    "\n",
    "# Define vectors a and b\n",
    "a = np.array([1, 1, 1])\n",
    "b = np.array([1, -1, 1])\n",
    "\n",
    "# Calculate the dot product of a and b\n",
    "dot_product_ab = np.dot( b ,a)\n",
    "print(\"Dot Product of a and b:\", dot_product_ab)\n",
    "\n",
    "# Calculate the dot product of a with itself (a · a)\n",
    "dot_product_aa = np.dot(a, a)\n",
    "print(\"Dot Product of a with itself:\", dot_product_aa)\n",
    "\n",
    "# Calculate the projection of b onto a\n",
    "projection = (dot_product_ab / dot_product_aa) * a\n",
    "\n",
    "print(\"Projection of b onto a:\", projection)\n"
   ]
  },
  {
   "cell_type": "code",
   "execution_count": 20,
   "metadata": {},
   "outputs": [
    {
     "name": "stdout",
     "output_type": "stream",
     "text": [
      "0.7071067811865475\n"
     ]
    }
   ],
   "source": [
    "print(1/math.sqrt(2))"
   ]
  },
  {
   "cell_type": "code",
   "execution_count": 18,
   "metadata": {},
   "outputs": [],
   "source": [
    "import math"
   ]
  },
  {
   "cell_type": "code",
   "execution_count": 26,
   "metadata": {},
   "outputs": [
    {
     "name": "stdout",
     "output_type": "stream",
     "text": [
      "After R2 <-> R3:\n",
      "\n",
      "After R2 -> R2:\n",
      "\n",
      "After R1 -> R1 - 5R2:\n",
      "\n",
      "After R3 -> 3R3:\n",
      "\n",
      "After R1 -> R1 + 29R3:\n",
      "\n",
      "After R2 -> R2 - 4R3:\n",
      "[[  1. -30. 241.]\n",
      " [  0.   7. -32.]\n",
      " [  0.   0.   9.]]\n",
      "second set===============================================\n",
      "\n",
      "Second set: After R2 <-> R3:\n",
      "\n",
      "After R2 -> 7R2:\n",
      "\n",
      "After R1 -> R1 - 5R2:\n",
      "\n",
      "After R2 -> 3R2:\n",
      "\n",
      "After R1 -> R1 + 29R3:\n",
      "\n",
      "After R2 -> R1 - 4R3:\n",
      "[[   1. -240.  -53.]\n",
      " [   1. -240.  -65.]\n",
      " [   0.    0.    3.]]\n"
     ]
    }
   ],
   "source": [
    "import numpy as np\n",
    "\n",
    "# Define the matrix\n",
    "A = np.array([[1, 5, 0],\n",
    "              [0, 0, 3],\n",
    "              [0, 7, 4]], dtype=float)\n",
    "\n",
    "# First set of row operations:\n",
    "A1 = A.copy()\n",
    "\n",
    "# R2 <-> R3\n",
    "A1[[1, 2]] = A1[[2, 1]]\n",
    "print(\"After R2 <-> R3:\")\n",
    "# print(A1)\n",
    "\n",
    "# R2 -> R2 (No-op, so no change)\n",
    "print(\"\\nAfter R2 -> R2:\")\n",
    "# print(A1)\n",
    "\n",
    "# R1 -> R1 - 5R2\n",
    "A1[0] = A1[0] - 5 * A1[1]\n",
    "print(\"\\nAfter R1 -> R1 - 5R2:\")\n",
    "# print(A1)\n",
    "\n",
    "# R3 -> 3R3\n",
    "A1[2] = 3 * A1[2]\n",
    "print(\"\\nAfter R3 -> 3R3:\")\n",
    "# print(A1)\n",
    "\n",
    "# R1 -> R1 + 29R3\n",
    "A1[0] = A1[0] + 29 * A1[2]\n",
    "print(\"\\nAfter R1 -> R1 + 29R3:\")\n",
    "# print(A1)\n",
    "\n",
    "# R2 -> R2 - 4R3\n",
    "A1[1] = A1[1] - 4 * A1[2]\n",
    "print(\"\\nAfter R2 -> R2 - 4R3:\")\n",
    "print(A1)\n",
    "\n",
    "print(\"second set===============================================\")\n",
    "# Second set of row operations:\n",
    "A2 = A.copy()\n",
    "\n",
    "# R2 <-> R3\n",
    "A2[[1, 2]] = A2[[2, 1]]\n",
    "print(\"\\nSecond set: After R2 <-> R3:\")\n",
    "# print(A2)\n",
    "\n",
    "# R2 -> 7R2\n",
    "A2[1] = 7 * A2[1]\n",
    "print(\"\\nAfter R2 -> 7R2:\")\n",
    "# print(A2)\n",
    "\n",
    "# R1 -> R1 - 5R2\n",
    "A2[0] = A2[0] - 5 * A2[1]\n",
    "print(\"\\nAfter R1 -> R1 - 5R2:\")\n",
    "# print(A2)\n",
    "\n",
    "# R2 -> 3R2\n",
    "A2[1] = 3 * A2[1]\n",
    "print(\"\\nAfter R2 -> 3R2:\")\n",
    "# print(A2)\n",
    "\n",
    "# R1 -> R1 + 29R3\n",
    "A2[0] = A2[0] + 29 * A2[2]\n",
    "print(\"\\nAfter R1 -> R1 + 29R3:\")\n",
    "# print(A2)\n",
    "\n",
    "# R2 -> R1 - 4R3\n",
    "A2[1] = A2[0] - 4 * A2[2]\n",
    "print(\"\\nAfter R2 -> R1 - 4R3:\")\n",
    "print(A2)\n"
   ]
  },
  {
   "cell_type": "code",
   "execution_count": 27,
   "metadata": {},
   "outputs": [
    {
     "name": "stdout",
     "output_type": "stream",
     "text": [
      "Inverse of the matrix A is:\n",
      "[[ 1.          0.95238095 -0.71428571]\n",
      " [ 0.         -0.19047619  0.14285714]\n",
      " [ 0.          0.33333333  0.        ]]\n"
     ]
    }
   ],
   "source": [
    "import numpy as np\n",
    "\n",
    "# Define the 3x3 matrix\n",
    "A = np.array([[1, 5, 0],\n",
    "              [0, 0, 3],\n",
    "              [0, 7, 4]])\n",
    "\n",
    "# Check if the matrix is invertible by calculating the determinant\n",
    "determinant = np.linalg.det(A)\n",
    "\n",
    "if determinant != 0:\n",
    "    # Find the inverse of the matrix\n",
    "    inverse_matrix = np.linalg.inv(A)\n",
    "    print(\"Inverse of the matrix A is:\")\n",
    "    print(inverse_matrix)\n",
    "else:\n",
    "    print(\"The matrix is not invertible (determinant is 0).\")\n"
   ]
  },
  {
   "cell_type": "code",
   "execution_count": 28,
   "metadata": {},
   "outputs": [
    {
     "name": "stdout",
     "output_type": "stream",
     "text": [
      "Set 1: After R2 <-> R3:\n",
      "\n",
      "Set 1: After R2 -> (1/7) * R2:\n",
      "\n",
      "Set 1: After R1 -> R1 - 5 * R2:\n",
      "\n",
      "Set 1: After R3 -> (1/3) * R3:\n",
      "\n",
      "Set 1: After R1 -> R1 + (20/7) * R3:\n",
      "\n",
      "Set 1: After R2 -> R2 - (4/7) * R3:\n",
      "[[1.0000000e+00 0.0000000e+00 4.4408921e-16]\n",
      " [0.0000000e+00 1.0000000e+00 0.0000000e+00]\n",
      " [0.0000000e+00 0.0000000e+00 1.0000000e+00]]\n",
      "\n",
      "Set 2: After R2 <-> R3:\n",
      "\n",
      "Set 2: After R2 -> (1/7) * R2:\n",
      "\n",
      "Set 2: After R1 -> R1 - 5 * R2:\n",
      "\n",
      "Set 2: After R2 -> (1/3) * R2:\n",
      "\n",
      "Set 2: After R1 -> R1 + (20/7) * R3:\n",
      "\n",
      "Set 2: After R2 -> R2 - (4/7) * R3:\n",
      "[[ 1.          0.          5.71428571]\n",
      " [ 0.          0.33333333 -1.52380952]\n",
      " [ 0.          0.          3.        ]]\n"
     ]
    }
   ],
   "source": [
    "import numpy as np\n",
    "\n",
    "# Define the matrix\n",
    "A = np.array([[1, 5, 0],\n",
    "              [0, 0, 3],\n",
    "              [0, 7, 4]], dtype=float)\n",
    "\n",
    "# Set 1 of operations:\n",
    "A1 = A.copy()\n",
    "\n",
    "# R2 <-> R3\n",
    "A1[[1, 2]] = A1[[2, 1]]\n",
    "print(\"Set 1: After R2 <-> R3:\")\n",
    " \n",
    "\n",
    "# R2 -> (1/7) * R2\n",
    "A1[1] = (1/7) * A1[1]\n",
    "print(\"\\nSet 1: After R2 -> (1/7) * R2:\")\n",
    " \n",
    "\n",
    "# R1 -> R1 - 5 * R2\n",
    "A1[0] = A1[0] - 5 * A1[1]\n",
    "print(\"\\nSet 1: After R1 -> R1 - 5 * R2:\")\n",
    " \n",
    "\n",
    "# R3 -> (1/3) * R3\n",
    "A1[2] = (1/3) * A1[2]\n",
    "print(\"\\nSet 1: After R3 -> (1/3) * R3:\")\n",
    " \n",
    "\n",
    "# R1 -> R1 + (20/7) * R3\n",
    "A1[0] = A1[0] + (20/7) * A1[2]\n",
    "print(\"\\nSet 1: After R1 -> R1 + (20/7) * R3:\")\n",
    " \n",
    "\n",
    "# R2 -> R2 - (4/7) * R3\n",
    "A1[1] = A1[1] - (4/7) * A1[2]\n",
    "print(\"\\nSet 1: After R2 -> R2 - (4/7) * R3:\")\n",
    "print(A1)\n",
    "\n",
    "\n",
    "# Set 2 of operations:\n",
    "A2 = A.copy()\n",
    "\n",
    "# R2 <-> R3\n",
    "A2[[1, 2]] = A2[[2, 1]]\n",
    "print(\"\\nSet 2: After R2 <-> R3:\")\n",
    " \n",
    "\n",
    "# R2 -> (1/7) * R2\n",
    "A2[1] = (1/7) * A2[1]\n",
    "print(\"\\nSet 2: After R2 -> (1/7) * R2:\")\n",
    " \n",
    "# R1 -> R1 - 5 * R2\n",
    "A2[0] = A2[0] - 5 * A2[1]\n",
    "print(\"\\nSet 2: After R1 -> R1 - 5 * R2:\")\n",
    " \n",
    "\n",
    "# R2 -> (1/3) * R2\n",
    "A2[1] = (1/3) * A2[1]\n",
    "print(\"\\nSet 2: After R2 -> (1/3) * R2:\")\n",
    " \n",
    "\n",
    "# R1 -> R1 + (20/7) * R3\n",
    "A2[0] = A2[0] + (20/7) * A2[2]\n",
    "print(\"\\nSet 2: After R1 -> R1 + (20/7) * R3:\")\n",
    " \n",
    "\n",
    "# R2 -> R2 - (4/7) * R3\n",
    "A2[1] = A2[1] - (4/7) * A2[2]\n",
    "print(\"\\nSet 2: After R2 -> R2 - (4/7) * R3:\")\n",
    "print(A2)\n"
   ]
  },
  {
   "cell_type": "code",
   "execution_count": 29,
   "metadata": {},
   "outputs": [
    {
     "name": "stdout",
     "output_type": "stream",
     "text": [
      "Set 1 result:\n",
      "[[ 0.14285714  0.71428571  2.85714286]\n",
      " [ 0.14285714  0.71428571 -0.57142857]\n",
      " [ 0.          0.          1.        ]]\n",
      "\n",
      "Set 2 result:\n",
      "[[1.00000000e+00 0.00000000e+00 4.44089210e-16]\n",
      " [0.00000000e+00 1.00000000e+00 1.14285714e+00]\n",
      " [0.00000000e+00 0.00000000e+00 1.00000000e+00]]\n",
      "\n",
      "Set 3 result:\n",
      "[[-0.42857143 -2.14285714  1.71428571]\n",
      " [ 0.          7.          3.74285714]\n",
      " [ 0.          0.          0.6       ]]\n"
     ]
    }
   ],
   "source": [
    "import numpy as np\n",
    "\n",
    "# Define the matrix\n",
    "A = np.array([[1, 5, 0],\n",
    "              [0, 0, 3],\n",
    "              [0, 7, 4]], dtype=float)\n",
    "\n",
    "# Set 1 of operations:\n",
    "A1 = A.copy()\n",
    "\n",
    "# R2 <-> R3\n",
    "A1[[1, 2]] = A1[[2, 1]]\n",
    "# R2 -> (1/7) * R1\n",
    "A1[1] = (1/7) * A1[0]\n",
    "# R1 -> R1 - 4 * R2\n",
    "A1[0] = A1[0] - 4 * A1[1]\n",
    "# R3 -> (1/3) * R3\n",
    "A1[2] = (1/3) * A1[2]\n",
    "# R1 -> R2 + (20/7) * R3\n",
    "A1[0] = A1[1] + (20/7) * A1[2]\n",
    "# R2 -> R2 - (4/7) * R3\n",
    "A1[1] = A1[1] - (4/7) * A1[2]\n",
    "\n",
    "print(\"Set 1 result:\")\n",
    "print(A1)\n",
    "\n",
    "# Set 2 of operations:\n",
    "A2 = A.copy()\n",
    "\n",
    "# R2 <-> R3\n",
    "A2[[1, 2]] = A2[[2, 1]]\n",
    "# R2 -> (1/7) * R2\n",
    "A2[1] = (1/7) * A2[1]\n",
    "# R1 -> R1 - 5 * R2\n",
    "A2[0] = A2[0] - 5 * A2[1]\n",
    "# R3 -> (1/3) * R3\n",
    "A2[2] = (1/3) * A2[2]\n",
    "# R1 -> R1 + (20/7) * R3\n",
    "A2[0] = A2[0] + (20/7) * A2[2]\n",
    "# R2 -> R2 + (4/7) * R3\n",
    "A2[1] = A2[1] + (4/7) * A2[2]\n",
    "\n",
    "print(\"\\nSet 2 result:\")\n",
    "print(A2)\n",
    "\n",
    "# Set 3 of operations:\n",
    "A3 = A.copy()\n",
    "\n",
    "# R2 <-> R3\n",
    "A3[[1, 2]] = A3[[2, 1]]\n",
    "# R1 -> (1/7) * R1\n",
    "A3[0] = (1/7) * A3[0]\n",
    "# R1 -> R1 - 4 * R1\n",
    "A3[0] = A3[0] - 4 * A3[0]\n",
    "# R3 -> (1/5) * R3\n",
    "A3[2] = (1/5) * A3[2]\n",
    "# R1 -> R1 + (20/7) * R3\n",
    "A3[0] = A3[0] + (20/7) * A3[2]\n",
    "# R2 -> R2 - (3/7) * R3\n",
    "A3[1] = A3[1] - (3/7) * A3[2]\n",
    "\n",
    "print(\"\\nSet 3 result:\")\n",
    "print(A3)\n"
   ]
  },
  {
   "cell_type": "code",
   "execution_count": 30,
   "metadata": {},
   "outputs": [
    {
     "name": "stdout",
     "output_type": "stream",
     "text": [
      "Inverse of AB:\n",
      "[[ 0.52380952 -0.04761905]\n",
      " [-0.28571429  0.07142857]]\n"
     ]
    }
   ],
   "source": [
    "import numpy as np\n",
    "\n",
    "# Define matrices A and B\n",
    "A = np.array([[1, 0], [5, 3]])\n",
    "B = np.array([[3, 2], [-1, 4]])\n",
    "\n",
    "# Step 1: Calculate AB\n",
    "AB = np.dot(A, B)\n",
    "\n",
    "# Step 2: Calculate the inverse of AB\n",
    "try:\n",
    "    AB_inv = np.linalg.inv(AB)\n",
    "    print(\"Inverse of AB:\")\n",
    "    print(AB_inv)\n",
    "except np.linalg.LinAlgError:\n",
    "    print(\"Matrix AB is singular, and its inverse does not exist.\")\n"
   ]
  },
  {
   "cell_type": "code",
   "execution_count": 34,
   "metadata": {},
   "outputs": [
    {
     "name": "stdout",
     "output_type": "stream",
     "text": [
      "The vectors are not orthogonal.\n"
     ]
    }
   ],
   "source": [
    "import numpy as np\n",
    "\n",
    "# Define two 3x1 vectors\n",
    "vector1 = np.array([1, 2, 3])  # Example vector 1\n",
    "vector2 = np.array([4, -5, 6])  # Example vector 2\n",
    "\n",
    "# Compute the dot product of the two vectors\n",
    "dot_product = np.dot(vector1, vector2)\n",
    "\n",
    "# Check if the dot product is zero\n",
    "if dot_product == 0:\n",
    "    print(\"The vectors are orthogonal.\")\n",
    "else:\n",
    "    print(\"The vectors are not orthogonal.\")\n"
   ]
  }
 ],
 "metadata": {
  "kernelspec": {
   "display_name": "mathenv",
   "language": "python",
   "name": "python3"
  },
  "language_info": {
   "codemirror_mode": {
    "name": "ipython",
    "version": 3
   },
   "file_extension": ".py",
   "mimetype": "text/x-python",
   "name": "python",
   "nbconvert_exporter": "python",
   "pygments_lexer": "ipython3",
   "version": "3.12.5"
  }
 },
 "nbformat": 4,
 "nbformat_minor": 2
}
