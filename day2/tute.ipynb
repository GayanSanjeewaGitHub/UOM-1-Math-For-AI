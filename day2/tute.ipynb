{
 "cells": [
  {
   "cell_type": "code",
   "execution_count": 1,
   "metadata": {},
   "outputs": [],
   "source": [
    "import numpy as numpy\n",
    "import pandas as pd"
   ]
  },
  {
   "cell_type": "code",
   "execution_count": 2,
   "metadata": {},
   "outputs": [
    {
     "name": "stdout",
     "output_type": "stream",
     "text": [
      "<FloatingArray>\n",
      "[1.0, 0.5, -1.25]\n",
      "Length: 3, dtype: Float64\n",
      "<FloatingArray>\n",
      "[2.0, 1.0, -2.5]\n",
      "Length: 3, dtype: Float64\n",
      "<FloatingArray>\n",
      "[3.0, 1.5, -3.75]\n",
      "Length: 3, dtype: Float64\n"
     ]
    }
   ],
   "source": [
    "u=pd.array([1 ,0.5 ,-1.25])\n",
    "print(u)\n",
    "\n",
    "v=2*u\n",
    "w=3*u\n",
    "\n",
    "print(v)\n",
    "print(w)"
   ]
  },
  {
   "cell_type": "code",
   "execution_count": 3,
   "metadata": {},
   "outputs": [
    {
     "name": "stdout",
     "output_type": "stream",
     "text": [
      "-38\n",
      "[-165    0  -66]\n",
      "-35\n",
      "-23\n",
      "56\n",
      "-638\n"
     ]
    }
   ],
   "source": [
    "u=pd.array([2 ,-1,2])\n",
    "v=pd.array([5 ,0,2])\n",
    "x=pd.array([-7 ,1,2])\n",
    "y=pd.array([0 ,8,3])\n",
    "\n",
    "\n",
    "# a) (u+ v) ·(x+ y)\n",
    "# b) ((3u·x)v) ·y\n",
    "# c) u·x−4v·y\n",
    "# d) u·x+ 3u·y−v·y\n",
    "# e) (2(v+ u) ·u) −5u·y\n",
    "# f) 4u·x+ 6 [v·(3x−y)]\n",
    "\n",
    "\n",
    "\n",
    "a=numpy.dot(u+v,x+y)\n",
    "b=numpy.dot(numpy.dot(3*u,x),v)\n",
    "c=numpy.dot(u,x)-4*numpy.dot(v,y)\n",
    "d=numpy.dot(u,x)+3*numpy.dot(u,y)-numpy.dot(v,y)\n",
    "e=numpy.dot(2*(v+u),u)-5*numpy.dot(u,y)\n",
    "f=4*numpy.dot(u,x)+6*(numpy.dot(v,3*x-y))\n",
    "\n",
    "print(a)\n",
    "print(b)\n",
    "print(c)\n",
    "print(d)\n",
    "print(e)\n",
    "print(f)\n",
    "\n",
    "\n"
   ]
  },
  {
   "cell_type": "code",
   "execution_count": 4,
   "metadata": {},
   "outputs": [
    {
     "name": "stdout",
     "output_type": "stream",
     "text": [
      "5.830951894845301\n",
      "7.0710678118654755\n",
      "4.0\n",
      "4.358898943540674\n",
      "9.539392014169456\n"
     ]
    }
   ],
   "source": [
    "# 2 Calculate ∥u∥ for each of the following vectors.\n",
    "\n",
    "a=pd.array([-3 ,5])\n",
    "b=pd.array([1,0,7])\n",
    "c=pd.array([2,2,2,2])\n",
    "d=pd.array([1,-1,2,-2,3])\n",
    "e=pd.array([1,2,3,4,5,6])\n",
    "\n",
    "norm_a=numpy.linalg.norm(a)\n",
    "norm_b=numpy.linalg.norm(b)\n",
    "norm_c=numpy.linalg.norm(c)\n",
    "norm_d=numpy.linalg.norm(d)\n",
    "norm_e=numpy.linalg.norm(e)\n",
    "\n",
    "\n",
    "print(norm_a)\n",
    "print(norm_b)\n",
    "print(norm_c)\n",
    "print(norm_d)\n",
    "print(norm_e)\n"
   ]
  },
  {
   "cell_type": "code",
   "execution_count": 5,
   "metadata": {},
   "outputs": [
    {
     "name": "stdout",
     "output_type": "stream",
     "text": [
      "14.250032697803595\n",
      "90.0\n",
      "90.0\n"
     ]
    }
   ],
   "source": [
    "# 4 For each pair of vectors u, v, calculate the angle between uand v\n",
    "u1=pd.array([3 ,4])\n",
    "v1=pd.array([5,12])\n",
    "\n",
    "u2=pd.array([ 4 , 6])\n",
    "v2=pd.array([-3 , 2])\n",
    "\n",
    "u3=pd.array([ 2 ,2 ,-1])\n",
    "v3=pd.array([5,-4,2])\n",
    "\n",
    "\n",
    "def angle_between_vectors(v, u):\n",
    "    dot_product = numpy.dot(v, u)  # Dot product\n",
    "    norm_v = numpy.linalg.norm(v)  # Magnitude of v\n",
    "    norm_u = numpy.linalg.norm(u)  # Magnitude of u\n",
    "    cos_theta = dot_product / (norm_v * norm_u)  # Cosine of the angle\n",
    "    angle = numpy.arccos(numpy.clip(cos_theta, -1.0, 1.0))  # Angle in radians\n",
    "    return numpy.degrees(angle)  # Convert to degrees\n",
    "\n",
    "print(angle_between_vectors(u1,v1))\n",
    "print(angle_between_vectors(u2,v2))\n",
    "print(angle_between_vectors(u3,v3))\n",
    "\n"
   ]
  },
  {
   "cell_type": "code",
   "execution_count": 6,
   "metadata": {},
   "outputs": [
    {
     "name": "stdout",
     "output_type": "stream",
     "text": [
      "<FloatingArray>\n",
      "[0.9382716049382716, -0.9382716049382716, 1.6419753086419753]\n",
      "Length: 3, dtype: Float64\n"
     ]
    }
   ],
   "source": [
    "#8 Find the orthogonal projection of the vector\n",
    "\n",
    "u=pd.array([1 ,-2,1])\n",
    "v=pd.array([4 , -4 ,7])\n",
    "\n",
    "# projection of V on U\n",
    "def projection(v, u):\n",
    "    dot_product = numpy.dot( u , v)  # Dot product\n",
    "    norm_u_squared = numpy.dot(u, u)  # Magnitude squared of u\n",
    "    proj = (dot_product / norm_u_squared) * u  # Projection formula\n",
    "    return proj\n",
    "\n",
    "print(projection(u,v))\n",
    " "
   ]
  },
  {
   "cell_type": "code",
   "execution_count": 7,
   "metadata": {},
   "outputs": [
    {
     "name": "stdout",
     "output_type": "stream",
     "text": [
      "[-1.55014595+3.03460992j -1.55014595-3.03460992j  3.1002919 +0.j        ]\n"
     ]
    }
   ],
   "source": [
    "# find the roots\n",
    "\n",
    "import numpy as np\n",
    "\n",
    "# Coefficients of the cubic equation a^3 + 2a - 36 = 0\n",
    "coefficients = [1, 0, 2, -36]\n",
    "\n",
    "# Find the roots using numpy's roots function\n",
    "roots = np.roots(coefficients)\n",
    "print(roots)\n"
   ]
  },
  {
   "cell_type": "code",
   "execution_count": 10,
   "metadata": {},
   "outputs": [
    {
     "name": "stdout",
     "output_type": "stream",
     "text": [
      "[ 0.53452248 -0.80178373  0.26726124]\n",
      "[0.16329932 0.40824829 0.89814624]\n"
     ]
    }
   ],
   "source": [
    "\n",
    "#unit vector in u\n",
    "u=numpy.array([2,-3,1])\n",
    "print(u / numpy.linalg.norm(u))\n",
    "\n",
    "#unit vector in v\n",
    "v=numpy.array([7 , -5, 1])\n",
    "\n",
    "#Find a unit vector perpendicular to both uand v\n",
    "import numpy\n",
    "\n",
    "def unit_vector_orthogonal_to_vectors(u, v):\n",
    "    unit_vector = numpy.cross(u, v)  # Cross product\n",
    "    unit_vector = unit_vector / numpy.linalg.norm(unit_vector)  # Normalize and cast to float\n",
    "    return unit_vector\n",
    " \n",
    "\n",
    "print(unit_vector_orthogonal_to_vectors(u, v))"
   ]
  }
 ],
 "metadata": {
  "kernelspec": {
   "display_name": "mathenv",
   "language": "python",
   "name": "python3"
  },
  "language_info": {
   "codemirror_mode": {
    "name": "ipython",
    "version": 3
   },
   "file_extension": ".py",
   "mimetype": "text/x-python",
   "name": "python",
   "nbconvert_exporter": "python",
   "pygments_lexer": "ipython3",
   "version": "3.12.5"
  }
 },
 "nbformat": 4,
 "nbformat_minor": 2
}
