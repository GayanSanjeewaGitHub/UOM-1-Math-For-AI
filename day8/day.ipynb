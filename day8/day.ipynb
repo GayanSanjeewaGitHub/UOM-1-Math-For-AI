{
 "cells": [
  {
   "cell_type": "code",
   "execution_count": 1,
   "metadata": {},
   "outputs": [
    {
     "name": "stdout",
     "output_type": "stream",
     "text": [
      "Partial derivatives of f1:\n",
      "df1/dx = 2*x + 3*y\n",
      "df1/dy = 3*x\n",
      "Partial derivatives of f2:\n",
      "df2/dx = 2*x\n",
      "df2/dy = -2*y\n"
     ]
    }
   ],
   "source": [
    "import sympy as sp\n",
    "\n",
    "# Define variables\n",
    "x, y = sp.symbols('x y')\n",
    "\n",
    "# Function 1\n",
    "f1 = x**2 + 3*x*y + 5\n",
    "# Function 2\n",
    "f2 = x**2 - y**2\n",
    "\n",
    "# Partial derivatives\n",
    "df1_dx = sp.diff(f1, x)\n",
    "df1_dy = sp.diff(f1, y)\n",
    "df2_dx = sp.diff(f2, x)\n",
    "df2_dy = sp.diff(f2, y)\n",
    "\n",
    "print(\"Partial derivatives of f1:\")\n",
    "print(\"df1/dx =\", df1_dx)\n",
    "print(\"df1/dy =\", df1_dy)\n",
    "\n",
    "print(\"Partial derivatives of f2:\")\n",
    "print(\"df2/dx =\", df2_dx)\n",
    "print(\"df2/dy =\", df2_dy)"
   ]
  },
  {
   "cell_type": "code",
   "execution_count": 6,
   "metadata": {},
   "outputs": [
    {
     "name": "stdout",
     "output_type": "stream",
     "text": [
      "Derivative of ln(3x + 5y) with respect to x: 3/(3*x + 5*y)\n",
      "Derivative of ln(3x + 5y) with respect to x: -9/(3*x + 5*y)**2\n",
      "Derivative of ln(3x + 5y) with respect to y: 5/(3*x + 5*y)\n",
      "Derivative of ln(3x + 5y) with respect to y: -25/(3*x + 5*y)**2\n"
     ]
    }
   ],
   "source": [
    "function = sp.ln(3*x + 5*y)\n",
    "partial_x = sp.diff(function, x)\n",
    "print(\"Derivative of ln(3x + 5y) with respect to x: \" + str(partial_x))\n",
    "\n",
    "partial_xx = sp.diff(partial_x, x)\n",
    "print(\"Derivative of ln(3x + 5y) with respect to x: \" + str(partial_xx))\n",
    "\n",
    "\n",
    "\n",
    "partial_y = sp.diff(function, y)\n",
    "print(\"Derivative of ln(3x + 5y) with respect to y: \" + str(partial_y))\n",
    "\n",
    "\n",
    "partial_yy = sp.diff(partial_y, y)\n",
    "print(\"Derivative of ln(3x + 5y) with respect to y: \" + str(partial_yy))\n",
    "\n",
    "\n"
   ]
  },
  {
   "cell_type": "code",
   "execution_count": null,
   "metadata": {},
   "outputs": [],
   "source": [
    "z= (x**2 + y**2)/(x+y)\n",
    "partial_x = sp.diff(z, x)\n",
    "print(\"Derivative of (x^2 + y^2)/(x+y) with respect to x: \" + str(partial_x))\n",
    "\n",
    "partial_xx = sp.diff(partial_x, x)\n",
    "print(\"Derivative of (x^2 + y^2)/(x+y) with respect to x: \" + str(partial_xx))\n",
    "\n",
    "partial_y = sp.diff(z,y)\n"
   ]
  },
  {
   "cell_type": "code",
   "execution_count": 7,
   "metadata": {},
   "outputs": [
    {
     "name": "stdout",
     "output_type": "stream",
     "text": [
      "(6.666666666666667, 8.136819231083101e-14)\n"
     ]
    }
   ],
   "source": [
    "from scipy import  integrate\n",
    "f=lambda x, y : x**2 + y**2\n",
    "result = integrate.dblquad(f , 0, 1, 2,3)\n",
    "print(result)"
   ]
  },
  {
   "cell_type": "code",
   "execution_count": null,
   "metadata": {},
   "outputs": [],
   "source": []
  }
 ],
 "metadata": {
  "kernelspec": {
   "display_name": "mathenv",
   "language": "python",
   "name": "python3"
  },
  "language_info": {
   "codemirror_mode": {
    "name": "ipython",
    "version": 3
   },
   "file_extension": ".py",
   "mimetype": "text/x-python",
   "name": "python",
   "nbconvert_exporter": "python",
   "pygments_lexer": "ipython3",
   "version": "3.12.5"
  }
 },
 "nbformat": 4,
 "nbformat_minor": 2
}
