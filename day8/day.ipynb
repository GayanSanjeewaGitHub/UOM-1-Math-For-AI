{
 "cells": [
  {
   "cell_type": "code",
   "execution_count": 1,
   "metadata": {},
   "outputs": [
    {
     "name": "stdout",
     "output_type": "stream",
     "text": [
      "Partial derivatives of f1:\n",
      "df1/dx = 2*x + 3*y\n",
      "df1/dy = 3*x\n",
      "Partial derivatives of f2:\n",
      "df2/dx = 2*x\n",
      "df2/dy = -2*y\n"
     ]
    }
   ],
   "source": [
    "import sympy as sp\n",
    "\n",
    "# Define variables\n",
    "x, y = sp.symbols('x y')\n",
    "\n",
    "# Function 1\n",
    "f1 = x**2 + 3*x*y + 5\n",
    "# Function 2\n",
    "f2 = x**2 - y**2\n",
    "\n",
    "# Partial derivatives\n",
    "df1_dx = sp.diff(f1, x)\n",
    "df1_dy = sp.diff(f1, y)\n",
    "df2_dx = sp.diff(f2, x)\n",
    "df2_dy = sp.diff(f2, y)\n",
    "\n",
    "print(\"Partial derivatives of f1:\")\n",
    "print(\"df1/dx =\", df1_dx)\n",
    "print(\"df1/dy =\", df1_dy)\n",
    "\n",
    "print(\"Partial derivatives of f2:\")\n",
    "print(\"df2/dx =\", df2_dx)\n",
    "print(\"df2/dy =\", df2_dy)"
   ]
  },
  {
   "cell_type": "code",
   "execution_count": 6,
   "metadata": {},
   "outputs": [
    {
     "name": "stdout",
     "output_type": "stream",
     "text": [
      "Derivative of ln(3x + 5y) with respect to x: 3/(3*x + 5*y)\n",
      "Derivative of ln(3x + 5y) with respect to x: -9/(3*x + 5*y)**2\n",
      "Derivative of ln(3x + 5y) with respect to y: 5/(3*x + 5*y)\n",
      "Derivative of ln(3x + 5y) with respect to y: -25/(3*x + 5*y)**2\n"
     ]
    }
   ],
   "source": [
    "function = sp.ln(3*x + 5*y)\n",
    "partial_x = sp.diff(function, x)\n",
    "print(\"Derivative of ln(3x + 5y) with respect to x: \" + str(partial_x))\n",
    "\n",
    "partial_xx = sp.diff(partial_x, x)\n",
    "print(\"Derivative of ln(3x + 5y) with respect to x: \" + str(partial_xx))\n",
    "\n",
    "\n",
    "\n",
    "partial_y = sp.diff(function, y)\n",
    "print(\"Derivative of ln(3x + 5y) with respect to y: \" + str(partial_y))\n",
    "\n",
    "\n",
    "partial_yy = sp.diff(partial_y, y)\n",
    "print(\"Derivative of ln(3x + 5y) with respect to y: \" + str(partial_yy))\n",
    "\n",
    "\n"
   ]
  },
  {
   "cell_type": "code",
   "execution_count": null,
   "metadata": {},
   "outputs": [],
   "source": [
    "z= (x**2 + y**2)/(x+y)\n",
    "partial_x = sp.diff(z, x)\n",
    "print(\"Derivative of (x^2 + y^2)/(x+y) with respect to x: \" + str(partial_x))\n",
    "\n",
    "partial_xx = sp.diff(partial_x, x)\n",
    "print(\"Derivative of (x^2 + y^2)/(x+y) with respect to x: \" + str(partial_xx))\n",
    "\n",
    "partial_y = sp.diff(z,y)\n"
   ]
  },
  {
   "cell_type": "code",
   "execution_count": 7,
   "metadata": {},
   "outputs": [
    {
     "name": "stdout",
     "output_type": "stream",
     "text": [
      "(6.666666666666667, 8.136819231083101e-14)\n"
     ]
    }
   ],
   "source": [
    "from scipy import  integrate\n",
    "f=lambda x, y : x**2 + y**2\n",
    "result = integrate.dblquad(f , 0, 1, 2,3)\n",
    "print(result)"
   ]
  },
  {
   "cell_type": "code",
   "execution_count": 8,
   "metadata": {},
   "outputs": [
    {
     "name": "stdout",
     "output_type": "stream",
     "text": [
      "Critical Points: [(-4, -8), (0, 0), (2, -2)]\n"
     ]
    }
   ],
   "source": [
    "import sympy as sp\n",
    "\n",
    "# Define variables\n",
    "x, y = sp.symbols('x y')\n",
    "\n",
    "# Define the function\n",
    "f = 2*x**3 - 3*x**2*y - 12*x**2 - 3*y**2\n",
    "\n",
    "# Compute first-order partial derivatives\n",
    "f_x = sp.diff(f, x)\n",
    "f_y = sp.diff(f, y)\n",
    "\n",
    "# Solve for critical points\n",
    "critical_points = sp.solve((f_x, f_y), (x, y))\n",
    "\n",
    "# Display results\n",
    "print(\"Critical Points:\", critical_points)\n"
   ]
  },
  {
   "cell_type": "code",
   "execution_count": 9,
   "metadata": {},
   "outputs": [
    {
     "name": "stdout",
     "output_type": "stream",
     "text": [
      "Hessian Determinant at (0,0): -16\n",
      "f_xx at (0,0): 0\n",
      "Nature of Critical Point (0,0): Saddle Point\n"
     ]
    }
   ],
   "source": [
    "import sympy as sp\n",
    "\n",
    "# Define variables\n",
    "x, y = sp.symbols('x y')\n",
    "\n",
    "# Define the function\n",
    "f = 4*x*y - x**4 - y**4 + 4\n",
    "\n",
    "# Compute first-order partial derivatives\n",
    "f_x = sp.diff(f, x)\n",
    "f_y = sp.diff(f, y)\n",
    "\n",
    "# Compute second-order partial derivatives\n",
    "f_xx = sp.diff(f_x, x)\n",
    "f_yy = sp.diff(f_y, y)\n",
    "f_xy = sp.diff(f_x, y)\n",
    "\n",
    "# Define Hessian determinant\n",
    "D = f_xx * f_yy - f_xy**2\n",
    "\n",
    "# Evaluate at (0,0)\n",
    "d_value = D.subs({x: 0, y: 0})\n",
    "f_xx_value = f_xx.subs({x: 0, y: 0})\n",
    "\n",
    "# Determine critical point nature\n",
    "if d_value > 0:\n",
    "    if f_xx_value > 0:\n",
    "        result = \"Local Minimum\"\n",
    "    else:\n",
    "        result = \"Local Maximum\"\n",
    "elif d_value < 0:\n",
    "    result = \"Saddle Point\"\n",
    "else:\n",
    "    result = \"Inconclusive\"\n",
    "\n",
    "# Display results\n",
    "print(\"Hessian Determinant at (0,0):\", d_value)\n",
    "print(\"f_xx at (0,0):\", f_xx_value)\n",
    "print(\"Nature of Critical Point (0,0):\", result)\n"
   ]
  },
  {
   "cell_type": "code",
   "execution_count": 10,
   "metadata": {},
   "outputs": [
    {
     "name": "stdout",
     "output_type": "stream",
     "text": [
      "Hessian Determinant at (0,0): -16\n",
      "f_xx at (0,0): 0\n",
      "Nature of Critical Point (0,0): Saddle Point\n",
      "g_ba(2,3): 72\n"
     ]
    }
   ],
   "source": [
    "import sympy as sp\n",
    "\n",
    "# Define variables\n",
    "x, y = sp.symbols('x y')\n",
    "a, b = sp.symbols('a b')\n",
    "\n",
    "# Define the function\n",
    "g = a**3 * b**2 - b\n",
    "\n",
    "# Compute first-order partial derivatives\n",
    "g_a = sp.diff(g, a)\n",
    "g_ba = sp.diff(g_a, b)\n",
    "\n",
    "# Evaluate at (2,3)\n",
    "g_ba_value = g_ba.subs({a: 2, b: 3})\n",
    "\n",
    "# Compute first-order partial derivatives for f\n",
    "f = 4*x*y - x**4 - y**4 + 4\n",
    "f_x = sp.diff(f, x)\n",
    "f_y = sp.diff(f, y)\n",
    "\n",
    "# Compute second-order partial derivatives for f\n",
    "f_xx = sp.diff(f_x, x)\n",
    "f_yy = sp.diff(f_y, y)\n",
    "f_xy = sp.diff(f_x, y)\n",
    "\n",
    "# Define Hessian determinant\n",
    "D = f_xx * f_yy - f_xy**2\n",
    "\n",
    "# Evaluate at (0,0)\n",
    "d_value = D.subs({x: 0, y: 0})\n",
    "f_xx_value = f_xx.subs({x: 0, y: 0})\n",
    "\n",
    "# Determine critical point nature\n",
    "if d_value > 0:\n",
    "    if f_xx_value > 0:\n",
    "        result = \"Local Minimum\"\n",
    "    else:\n",
    "        result = \"Local Maximum\"\n",
    "elif d_value < 0:\n",
    "    result = \"Saddle Point\"\n",
    "else:\n",
    "    result = \"Inconclusive\"\n",
    "\n",
    "# Display results\n",
    "print(\"Hessian Determinant at (0,0):\", d_value)\n",
    "print(\"f_xx at (0,0):\", f_xx_value)\n",
    "print(\"Nature of Critical Point (0,0):\", result)\n",
    "print(\"g_ba(2,3):\", g_ba_value)\n"
   ]
  }
 ],
 "metadata": {
  "kernelspec": {
   "display_name": "mathenv",
   "language": "python",
   "name": "python3"
  },
  "language_info": {
   "codemirror_mode": {
    "name": "ipython",
    "version": 3
   },
   "file_extension": ".py",
   "mimetype": "text/x-python",
   "name": "python",
   "nbconvert_exporter": "python",
   "pygments_lexer": "ipython3",
   "version": "3.12.5"
  }
 },
 "nbformat": 4,
 "nbformat_minor": 2
}
