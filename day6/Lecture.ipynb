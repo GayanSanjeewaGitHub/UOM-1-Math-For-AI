{
 "cells": [
  {
   "cell_type": "code",
   "execution_count": 24,
   "metadata": {},
   "outputs": [
    {
     "name": "stdout",
     "output_type": "stream",
     "text": [
      "augmented_matrix:\n",
      " [[ 3.    2.    1.    7.  ]\n",
      " [ 1.    0.5  -1.    4.  ]\n",
      " [ 1.    0.75  1.    5.  ]]\n",
      "max_row1: [[3. 2. 1. 7.]\n",
      " [3. 2. 1. 7.]]\n",
      "max_row2: [[3. 2. 1. 7.]\n",
      " [3. 2. 1. 7.]]\n",
      "max_row1: [[ 0.         -0.16666667 -1.33333333  1.66666667]\n",
      " [ 0.         -0.16666667 -1.33333333  1.66666667]]\n",
      "max_row2: [[ 0.         -0.16666667 -1.33333333  1.66666667]\n",
      " [ 0.         -0.16666667 -1.33333333  1.66666667]]\n",
      "max_row1: [[ 0.00000000e+00  0.00000000e+00 -3.33066907e-16  3.50000000e+00]\n",
      " [ 0.00000000e+00  0.00000000e+00 -3.33066907e-16  3.50000000e+00]]\n",
      "max_row2: [[ 0.00000000e+00  0.00000000e+00 -3.33066907e-16  3.50000000e+00]\n",
      " [ 0.00000000e+00  0.00000000e+00 -3.33066907e-16  3.50000000e+00]]\n",
      "Solution: [-5.25419957e+16  8.40671930e+16 -1.05083991e+16]\n"
     ]
    }
   ],
   "source": [
    "import numpy as np\n",
    "\n",
    "def gaussian_elimination(A, b):\n",
    "    n = len(A)\n",
    "    augmented_matrix = np.hstack((A, b.reshape(-1,1)))  # Create [A | B]\n",
    "    print(\"augmented_matrix:\\n\", augmented_matrix)\n",
    "    # print(\"augmented_matrix[0:, 2]:\\n\", augmented_matrix[0:, 1])\n",
    "    # print(\"abs(augmented_matrix[0:, 2]):\\n\",  abs(augmented_matrix[0:, 2]))\n",
    "    # print(\"np.argmax(abs(augmented_matrix[0:, 2]):\\n\", np.argmax(abs(augmented_matrix[0:, 2])))\n",
    "     \n",
    "    for i in range(n):\n",
    "       \n",
    "        # Partial Pivoting: Swap rows to place largest element in current column at the diagonal\n",
    "        max_row = np.argmax(abs(augmented_matrix[i:, i])) + i\n",
    "        print(\"max_row1:\", augmented_matrix[[max_row, i]])\n",
    "        print(\"max_row2:\", augmented_matrix[[max_row, i]])\n",
    "        augmented_matrix[[i, max_row]] = augmented_matrix[[max_row, i]]\n",
    "        \n",
    "        # Make the pivot element 1\n",
    "        augmented_matrix[i] = augmented_matrix[i] / augmented_matrix[i, i]\n",
    "\n",
    "        # Eliminate below the pivot\n",
    "        for j in range(i + 1, n):\n",
    "            augmented_matrix[j] -= augmented_matrix[j, i] * augmented_matrix[i]\n",
    "\n",
    "    # Back-substitution\n",
    "    x = np.zeros(n)\n",
    "    for i in range(n-1, -1, -1):\n",
    "        x[i] = augmented_matrix[i, -1] - np.dot(augmented_matrix[i, i+1:n], x[i+1:n])\n",
    "    \n",
    "    return x\n",
    "\n",
    "# Example Usage\n",
    "A = np.array([[3, 2, 1], [1, 0.5, -1], [1, 3/4, 1]], dtype=float)\n",
    "b = np.array([7, 4, 5], dtype=float)\n",
    "\n",
    "solution = gaussian_elimination(A, b)\n",
    "print(\"Solution:\", solution)\n"
   ]
  }
 ],
 "metadata": {
  "kernelspec": {
   "display_name": "mathenv",
   "language": "python",
   "name": "python3"
  },
  "language_info": {
   "codemirror_mode": {
    "name": "ipython",
    "version": 3
   },
   "file_extension": ".py",
   "mimetype": "text/x-python",
   "name": "python",
   "nbconvert_exporter": "python",
   "pygments_lexer": "ipython3",
   "version": "3.12.5"
  }
 },
 "nbformat": 4,
 "nbformat_minor": 2
}
